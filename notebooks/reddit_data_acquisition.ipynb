{
  "nbformat": 4,
  "nbformat_minor": 0,
  "metadata": {
    "kernelspec": {
      "name": "python3",
      "display_name": "Python 3"
    },
    "colab": {
      "name": "reddit_data_acquisition.ipynb",
      "provenance": [],
      "collapsed_sections": [],
      "toc_visible": true,
      "include_colab_link": true
    },
    "language_info": {
      "name": "python"
    }
  },
  "cells": [
    {
      "cell_type": "markdown",
      "metadata": {
        "id": "view-in-github",
        "colab_type": "text"
      },
      "source": [
        "<a href=\"https://colab.research.google.com/github/simonsanvil/FinalProjectMLA/blob/master/notebooks/reddit_data_acquisition.ipynb\" target=\"_parent\"><img src=\"https://colab.research.google.com/assets/colab-badge.svg\" alt=\"Open In Colab\"/></a>"
      ]
    },
    {
      "cell_type": "markdown",
      "metadata": {
        "id": "aDzaDShRNa2a"
      },
      "source": [
        "# **Final Project: Data Set Creation**\n",
        "\n",
        "## Using the Reddit API to scrap several posts from Reddit to use for our NLP tasks\n",
        "\n",
        "### Universidad Carlos III de Madrid - Machine Learning Applications\n",
        "\n",
        "---\n",
        "\n",
        "**Authors:**\n",
        "- Enrique Botía Barberá \n",
        "- David Méndez Encinas \n",
        "- Andrés Ruiz Calvo \n",
        "- Simón E. Sánchez Viloria"
      ]
    },
    {
      "cell_type": "markdown",
      "metadata": {
        "id": "BaxajblGiuTJ"
      },
      "source": [
        "In this notebook we make use of Python's Reddit API Wrapper [PRAW](https://praw.readthedocs.io/en/latest/index.html) to create a dataset of posts from multiple communities of the website in order to use it for our NLP tasks."
      ]
    },
    {
      "cell_type": "markdown",
      "metadata": {
        "id": "9jCbMz47chUo"
      },
      "source": [
        "**Load Environmental variables:**"
      ]
    },
    {
      "cell_type": "markdown",
      "metadata": {
        "id": "Z4EwK5_qgmrI"
      },
      "source": [
        "To scrap data from Reddit using their API a `CLIENT_ID` and `CLIENT_SECRET` are required. These can be obtained by creating a reddit account and [registering an application](https://www.reddit.com/prefs/apps/). It is required that the enviromental variables `REDDIT_CLIENT_ID` and `REDDIT_CLIENT_SECRET` are set with these corresponding values in order to run this notebook. "
      ]
    },
    {
      "cell_type": "code",
      "metadata": {
        "id": "EgjONQT3J25t",
        "colab": {
          "base_uri": "https://localhost:8080/",
          "height": 51
        },
        "outputId": "305aee38-a5fa-451b-b616-2471a570f1f2"
      },
      "source": [
        "#load environmental variables from .env file\n",
        "import os\n",
        "!pip install python-dotenv'>=0.5.1'\n",
        "from dotenv import load_dotenv, find_dotenv\n",
        "# find .env automagically by walking up directories until it's found\n",
        "dotenv_path = \"redditenv.env\" #find_dotenv()\n",
        "# load up the entries as environment variables\n",
        "if os.path.isfile(dotenv_path):\n",
        "  load_dotenv(dotenv_path)\n",
        "  print(\"environmental variables found and loaded\")\n",
        "else:\n",
        "  print('.env not found')"
      ],
      "execution_count": null,
      "outputs": [
        {
          "output_type": "display_data",
          "data": {
            "text/html": [
              "<style> pre { white-space: pre-wrap;} </style>"
            ],
            "text/plain": [
              "<IPython.core.display.HTML object>"
            ]
          },
          "metadata": {
            "tags": []
          }
        },
        {
          "output_type": "stream",
          "text": [
            "Requirement already satisfied: python-dotenv>=0.5.1 in /usr/local/lib/python3.7/dist-packages (0.17.1)\n",
            "environmental variables found and loaded\n"
          ],
          "name": "stdout"
        }
      ]
    },
    {
      "cell_type": "markdown",
      "metadata": {
        "id": "vBLnYwzocbhZ"
      },
      "source": [
        "-------------------------"
      ]
    },
    {
      "cell_type": "code",
      "metadata": {
        "colab": {
          "base_uri": "https://localhost:8080/"
        },
        "id": "1QEVLcRJhg1Y",
        "outputId": "29c2fd89-98f8-44cc-80d9-15395ca08c95"
      },
      "source": [
        "## Formatting\n",
        "%matplotlib inline\n",
        "%config InlineBackend.figure_format = 'retina' \n",
        "\n",
        "#For fancy table Display\n",
        "%load_ext google.colab.data_table\n",
        "\n",
        "! pip install fastprogress #progress bar\n",
        "from fastprogress import master_bar, progress_bar\n",
        "from termcolor import colored #colored prints\n",
        "\n",
        "#To wrap long text lines\n",
        "from IPython.display import HTML, display\n",
        "def set_css():\n",
        "  display(HTML('<style> pre { white-space: pre-wrap;} </style>'))\n",
        "get_ipython().events.register('pre_run_cell', set_css)"
      ],
      "execution_count": null,
      "outputs": [
        {
          "output_type": "stream",
          "text": [
            "Requirement already satisfied: fastprogress in /usr/local/lib/python3.7/dist-packages (1.0.0)\n",
            "Requirement already satisfied: numpy in /usr/local/lib/python3.7/dist-packages (from fastprogress) (1.19.5)\n"
          ],
          "name": "stdout"
        }
      ]
    },
    {
      "cell_type": "markdown",
      "metadata": {
        "id": "tUmGDeel4T29"
      },
      "source": [
        "----------\n",
        "## Data Extraction:"
      ]
    },
    {
      "cell_type": "code",
      "metadata": {
        "id": "gcRONkjFiJ3t",
        "colab": {
          "base_uri": "https://localhost:8080/",
          "height": 323
        },
        "outputId": "faf07698-773f-4bb3-cee1-7c9ea94492aa"
      },
      "source": [
        "import os\n",
        "import pandas as pd\n",
        "!pip install praw\n",
        "import praw"
      ],
      "execution_count": null,
      "outputs": [
        {
          "output_type": "display_data",
          "data": {
            "text/html": [
              "<style> pre { white-space: pre-wrap;} </style>"
            ],
            "text/plain": [
              "<IPython.core.display.HTML object>"
            ]
          },
          "metadata": {
            "tags": []
          }
        },
        {
          "output_type": "stream",
          "text": [
            "Collecting praw\n",
            "\u001b[?25l  Downloading https://files.pythonhosted.org/packages/48/a8/a2e2d0750ee17c7e3d81e4695a0338ad0b3f231853b8c3fa339ff2d25c7c/praw-7.2.0-py3-none-any.whl (159kB)\n",
            "\u001b[K     |████████████████████████████████| 163kB 15.0MB/s \n",
            "\u001b[?25hCollecting prawcore<3,>=2\n",
            "  Downloading https://files.pythonhosted.org/packages/7d/df/4a9106bea0d26689c4b309da20c926a01440ddaf60c09a5ae22684ebd35f/prawcore-2.0.0-py3-none-any.whl\n",
            "Collecting websocket-client>=0.54.0\n",
            "\u001b[?25l  Downloading https://files.pythonhosted.org/packages/f7/0c/d52a2a63512a613817846d430d16a8fbe5ea56dd889e89c68facf6b91cb6/websocket_client-0.59.0-py2.py3-none-any.whl (67kB)\n",
            "\u001b[K     |████████████████████████████████| 71kB 6.0MB/s \n",
            "\u001b[?25hCollecting update-checker>=0.18\n",
            "  Downloading https://files.pythonhosted.org/packages/0c/ba/8dd7fa5f0b1c6a8ac62f8f57f7e794160c1f86f31c6d0fb00f582372a3e4/update_checker-0.18.0-py3-none-any.whl\n",
            "Requirement already satisfied: requests<3.0,>=2.6.0 in /usr/local/lib/python3.7/dist-packages (from prawcore<3,>=2->praw) (2.23.0)\n",
            "Requirement already satisfied: six in /usr/local/lib/python3.7/dist-packages (from websocket-client>=0.54.0->praw) (1.15.0)\n",
            "Requirement already satisfied: chardet<4,>=3.0.2 in /usr/local/lib/python3.7/dist-packages (from requests<3.0,>=2.6.0->prawcore<3,>=2->praw) (3.0.4)\n",
            "Requirement already satisfied: certifi>=2017.4.17 in /usr/local/lib/python3.7/dist-packages (from requests<3.0,>=2.6.0->prawcore<3,>=2->praw) (2020.12.5)\n",
            "Requirement already satisfied: idna<3,>=2.5 in /usr/local/lib/python3.7/dist-packages (from requests<3.0,>=2.6.0->prawcore<3,>=2->praw) (2.10)\n",
            "Requirement already satisfied: urllib3!=1.25.0,!=1.25.1,<1.26,>=1.21.1 in /usr/local/lib/python3.7/dist-packages (from requests<3.0,>=2.6.0->prawcore<3,>=2->praw) (1.24.3)\n",
            "Installing collected packages: prawcore, websocket-client, update-checker, praw\n",
            "Successfully installed praw-7.2.0 prawcore-2.0.0 update-checker-0.18.0 websocket-client-0.59.0\n"
          ],
          "name": "stdout"
        }
      ]
    },
    {
      "cell_type": "code",
      "metadata": {
        "id": "Wvz96-qeT1Oa",
        "colab": {
          "base_uri": "https://localhost:8080/",
          "height": 17
        },
        "outputId": "6a056669-9d08-4692-a3b5-871b74acc9f5"
      },
      "source": [
        "reddit = praw.Reddit(\n",
        "    client_id = os.environ['REDDIT_CLIENT_ID'],\n",
        "    client_secret = os.environ['REDDIT_CLIENT_SECRET'],\n",
        "    user_agent = 'Data extraction',\n",
        "    check_for_async=False,\n",
        "    )"
      ],
      "execution_count": null,
      "outputs": [
        {
          "output_type": "display_data",
          "data": {
            "text/html": [
              "<style> pre { white-space: pre-wrap;} </style>"
            ],
            "text/plain": [
              "<IPython.core.display.HTML object>"
            ]
          },
          "metadata": {
            "tags": []
          }
        }
      ]
    },
    {
      "cell_type": "code",
      "metadata": {
        "id": "9UaG1g5wT1Oc",
        "colab": {
          "base_uri": "https://localhost:8080/",
          "height": 17
        },
        "outputId": "00294247-6e5e-4bec-d379-d2188eeeb7ec"
      },
      "source": [
        "def get_submissions_df(reddit,subreddit_name,sub_sort='top',tags=None,time_filter='all',limit=1000):\n",
        "    '''\n",
        "    Scrap submissions/posts from a subreddit given and makes a dataset from the posts information. \n",
        "\n",
        "    @reddit: An instance of a praw.Reddit class\n",
        "    @subreddit_name<str>: name of the subreddit to fetch the posts from. \n",
        "    @sub_sort<str>: How to sort the subreddit before fetching the results. One of top, hot, new or controversial. Default is \"top\" to sort descendingly based on the score.\n",
        "    @tags<list>: Tags of a submmission to filter the results fetched. Only the posts with these tags will be returned. Default is any post\n",
        "    @time_filter<str>: One of \"all\", \"year\", \"month\", \"week\", \"day\", \"hour\" to filter by time the submissions that will be fetched.  Default is \"all\" posts\n",
        "    @limit<int>: Number of submissions to attemp to fetch. Warning: Reddit's API limit sets this to 1000 for regular accounts, any more than that wont be returned by the API. \n",
        "                 Default is 1000\n",
        "    '''\n",
        "    \n",
        "    subr = reddit.subreddit(subreddit_name)\n",
        "    if sub_sort=='new':\n",
        "      sort_fun = subr.new\n",
        "    elif sub_sort=='hot':\n",
        "      sort_fun = subr.hot\n",
        "    elif sub_sort=='controversial':\n",
        "      sort_fun = subr.controversial\n",
        "    else:\n",
        "      sort_fun = subr.top\n",
        "\n",
        "    mods = get_moderators(reddit,subreddit_name) #get the moderators of the forum since we dont want posts from them (they are usually meta or automated)\n",
        "\n",
        "    if tags is None:\n",
        "      is_valid_submission = lambda submission : submission.author not in mods and submission.is_self\n",
        "    else:\n",
        "      tags = [tags] if not isinstance(tags,(list,tuple,set,dict)) else tags\n",
        "      is_valid_submission = lambda submission : submission.author not in mods and submission.is_self and submission.link_flair_text in tags\n",
        "    sort_args = dict(limit=limit,time_filter=time_filter) if sub_sort not in ['new','hot'] else dict(limit=limit)\n",
        "\n",
        "    submissions = [submission for submission in sort_fun(**sort_args) if is_valid_submission(submission)]\n",
        "\n",
        "    if len(submissions)==0:\n",
        "      return pd.DataFrame(None,columns = ['title','text','score','subreddit','url'])\n",
        "\n",
        "    posts_info = [\n",
        "        {'title':submission.title, \n",
        "         'text':submission.selftext,\n",
        "         'score':submission.score,\n",
        "         'subreddit':subr,\n",
        "         'url':submission.url\n",
        "        } for submission in submissions\n",
        "    ]\n",
        "    \n",
        "    return pd.DataFrame(posts_info)\n",
        "\n",
        "def get_moderators(reddit,subreddit_name):\n",
        "  '''\n",
        "  get the moderators of the given subreddit\n",
        "  '''\n",
        "  mods = [moderator for moderator in reddit.subreddit(subreddit_name).moderator()]\n",
        "  return mods"
      ],
      "execution_count": null,
      "outputs": [
        {
          "output_type": "display_data",
          "data": {
            "text/html": [
              "<style> pre { white-space: pre-wrap;} </style>"
            ],
            "text/plain": [
              "<IPython.core.display.HTML object>"
            ]
          },
          "metadata": {
            "tags": []
          }
        }
      ]
    },
    {
      "cell_type": "code",
      "metadata": {
        "id": "X55LlDv8ZrOV",
        "colab": {
          "base_uri": "https://localhost:8080/",
          "height": 451
        },
        "outputId": "8d824ddc-41a2-456c-e8ae-59d163098a32"
      },
      "source": [
        "df = get_submissions_df(reddit,'datascience',limit=10)\n",
        "df"
      ],
      "execution_count": null,
      "outputs": [
        {
          "output_type": "display_data",
          "data": {
            "text/html": [
              "<style> pre { white-space: pre-wrap;} </style>"
            ],
            "text/plain": [
              "<IPython.core.display.HTML object>"
            ]
          },
          "metadata": {
            "tags": []
          }
        },
        {
          "output_type": "execute_result",
          "data": {
            "application/vnd.google.colaboratory.module+javascript": "\n      import \"https://ssl.gstatic.com/colaboratory/data_table/a6224c040fa35dcf/data_table.js\";\n\n      window.createDataTable({\n        data: [[{\n            'v': 0,\n            'f': \"0\",\n        },\n\"Shout Out to All the Mediocre Data Scientists Out There\",\n\"I've been lurking on this sub for a while now and all too often I see posts from people claiming they feel inadequate and then they go on to describe their stupid impressive background and experience. That's great and all but I'd like to move the spotlight to the rest of us for just a minute. Cheers to my fellow mediocre data scientists who don't work at FAANG companies, aren't pursing a PhD, don't publish papers, haven't won Kaggle competitions, and don't spend every waking hour improving their portfolio.  Even though we're nothing special, we still deserve some appreciation every once in a while.\\n\\n/rant I'll hand it back over to the smart people now\",\n{\n            'v': 2932,\n            'f': \"2932\",\n        },\n\"datascience\",\n\"https://www.reddit.com/r/datascience/comments/hohvgq/shout_out_to_all_the_mediocre_data_scientists_out/\"],\n [{\n            'v': 1,\n            'f': \"1\",\n        },\n\"I created a four-page Data Science Cheatsheet to assist with exam reviews, interview prep, and anything in-between\",\n\"Hey guys, I\\u2019ve been doing a lot of preparation for interviews lately, and thought I\\u2019d compile a document of theories, algorithms, and models I found helpful during this time. Originally, I was just keeping notes in a Google Doc, but figured I could create something more permanent and aesthetic.\\n\\nIt covers topics (some more in-depth than others), such as:\\n\\n* Distributions\\n* Linear and Logistic Regression\\n* Decision Trees and Random Forest\\n* SVM\\n* KNN\\n* Clustering\\n* Boosting\\n* Dimension Reduction (PCA, LDA, Factor Analysis)\\n* NLP\\n* Neural Networks\\n* Recommender Systems\\n* Reinforcement Learning\\n* Anomaly Detection\\n\\nThe four-page Data Science Cheatsheet can be found [here](https://github.com/aaronwangy/Data-Science-Cheatsheet/blob/main/Data_Science_Cheatsheet.pdf), and I hope it's helpful to those looking to review or brush up on machine learning concepts. Feel free to leave any suggestions and star/save the PDF for reference.\\n\\nCheers!\\n\\nGithub Repo: [https://github.com/aaronwangy/Data-Science-Cheatsheet](https://github.com/aaronwangy/Data-Science-Cheatsheet)\\n\\nEdit - Thanks for the awards! However, I don't have much need for internet points and much rather we help out local charities in need :) Some highly rated Covid relief projects listed [here](https://www.charitynavigator.org/index.cfm?bay=content.view&cpid=7779).\",\n{\n            'v': 2069,\n            'f': \"2069\",\n        },\n\"datascience\",\n\"https://www.reddit.com/r/datascience/comments/ljftgi/i_created_a_fourpage_data_science_cheatsheet_to/\"]],\n        columns: [[\"number\", \"index\"], [\"string\", \"title\"], [\"string\", \"text\"], [\"number\", \"score\"], [\"string\", \"subreddit\"], [\"string\", \"url\"]],\n        columnOptions: [{\"width\": \"1px\", \"className\": \"index_column\"}],\n        rowsPerPage: 25,\n        helpUrl: \"https://colab.research.google.com/notebooks/data_table.ipynb\",\n        suppressOutputScrolling: true,\n        minimumWidth: undefined,\n      });\n    ",
            "text/html": [
              "<div>\n",
              "<style scoped>\n",
              "    .dataframe tbody tr th:only-of-type {\n",
              "        vertical-align: middle;\n",
              "    }\n",
              "\n",
              "    .dataframe tbody tr th {\n",
              "        vertical-align: top;\n",
              "    }\n",
              "\n",
              "    .dataframe thead th {\n",
              "        text-align: right;\n",
              "    }\n",
              "</style>\n",
              "<table border=\"1\" class=\"dataframe\">\n",
              "  <thead>\n",
              "    <tr style=\"text-align: right;\">\n",
              "      <th></th>\n",
              "      <th>title</th>\n",
              "      <th>text</th>\n",
              "      <th>score</th>\n",
              "      <th>subreddit</th>\n",
              "      <th>url</th>\n",
              "    </tr>\n",
              "  </thead>\n",
              "  <tbody>\n",
              "    <tr>\n",
              "      <th>0</th>\n",
              "      <td>Shout Out to All the Mediocre Data Scientists ...</td>\n",
              "      <td>I've been lurking on this sub for a while now ...</td>\n",
              "      <td>2932</td>\n",
              "      <td>datascience</td>\n",
              "      <td>https://www.reddit.com/r/datascience/comments/...</td>\n",
              "    </tr>\n",
              "    <tr>\n",
              "      <th>1</th>\n",
              "      <td>I created a four-page Data Science Cheatsheet ...</td>\n",
              "      <td>Hey guys, I’ve been doing a lot of preparation...</td>\n",
              "      <td>2069</td>\n",
              "      <td>datascience</td>\n",
              "      <td>https://www.reddit.com/r/datascience/comments/...</td>\n",
              "    </tr>\n",
              "  </tbody>\n",
              "</table>\n",
              "</div>"
            ],
            "text/plain": [
              "                                               title  ...                                                url\n",
              "0  Shout Out to All the Mediocre Data Scientists ...  ...  https://www.reddit.com/r/datascience/comments/...\n",
              "1  I created a four-page Data Science Cheatsheet ...  ...  https://www.reddit.com/r/datascience/comments/...\n",
              "\n",
              "[2 rows x 5 columns]"
            ]
          },
          "metadata": {
            "tags": []
          },
          "execution_count": 13
        }
      ]
    },
    {
      "cell_type": "markdown",
      "metadata": {
        "id": "nK3ptxTQgRjy"
      },
      "source": [
        "We'll create the full dataset by obtaining the submission of various subreddits. We'll try to get at least 1500 different posts from each of them using various filters and sort types. "
      ]
    },
    {
      "cell_type": "code",
      "metadata": {
        "colab": {
          "base_uri": "https://localhost:8080/",
          "height": 407
        },
        "id": "Om5raBiVT1Oi",
        "outputId": "11b62dbd-3525-497e-cf37-6c1558161917"
      },
      "source": [
        "import itertools\n",
        "\n",
        "subreddits = [\n",
        "    'medicine',\n",
        "    'books',\n",
        "    'datascience',\n",
        "    'truegaming',\n",
        "    'politicaldiscussion',\n",
        "    'debatereligion',\n",
        "    'investing',\n",
        "    'relationships',\n",
        "    'casualconversation',\n",
        "    'legaladvice',\n",
        "]\n",
        "\n",
        "sort_types = ['top','controversial']\n",
        "time_filters = ['all','month','week','day','hour']\n",
        "all_combinations = list(itertools.product([sort_types[0]], time_filters)) + [('hot','all'),('new','all')] + list(itertools.product([sort_types[1]], time_filters))\n",
        "\n",
        "min_rows_per_sub = 1500\n",
        "final_df = None\n",
        "for subname in progress_bar(subreddits): #for each subreddit\n",
        "  if isinstance(subname,(list,tuple,dict)):\n",
        "    tags = subname[1]\n",
        "    subname = subname[0]\n",
        "  else:\n",
        "    tags = None\n",
        "  sub_df = pd.DataFrame(None,columns = ['title','text','score','subreddit','url'])\n",
        "  for sort_type,time_filter in progress_bar(all_combinations):  #for each sort and time_filter combination obtain the corresponding dataset\n",
        "    print('\\r',f'r/{subname}: Posts obtained: ',len(sub_df),end='')\n",
        "    df = get_submissions_df(reddit,subname,limit=1000,sub_sort=sort_type,tags=tags,time_filter=time_filter)\n",
        "    df = df[df.text.str.split(\" \").str.len() >= 25] #remove posts with less than 25 words\n",
        "    sub_df = pd.concat([sub_df,df],axis=0)\n",
        "    sub_df.drop_duplicates(inplace=True)\n",
        "    if len(sub_df) >= min_rows_per_sub: #if the size of this subreddit's dataframe surpasses the minimum posts per subreddit continue to the next\n",
        "      break\n",
        "  print('\\r',f\"r/{subname}: total number of posts obtained: {len(sub_df)}\")\n",
        "  final_df = pd.concat([final_df,sub_df],axis=0)"
      ],
      "execution_count": null,
      "outputs": [
        {
          "output_type": "display_data",
          "data": {
            "text/html": [
              "<style> pre { white-space: pre-wrap;} </style>"
            ],
            "text/plain": [
              "<IPython.core.display.HTML object>"
            ]
          },
          "metadata": {
            "tags": []
          }
        },
        {
          "output_type": "display_data",
          "data": {
            "text/html": [
              "<style> pre { white-space: pre-wrap;} </style>"
            ],
            "text/plain": [
              "<IPython.core.display.HTML object>"
            ]
          },
          "metadata": {
            "tags": []
          }
        },
        {
          "output_type": "display_data",
          "data": {
            "text/html": [
              "<style> pre { white-space: pre-wrap;} </style>"
            ],
            "text/plain": [
              "<IPython.core.display.HTML object>"
            ]
          },
          "metadata": {
            "tags": []
          }
        },
        {
          "output_type": "display_data",
          "data": {
            "text/html": [
              "\n",
              "    <div>\n",
              "        <style>\n",
              "            /* Turns off some styling */\n",
              "            progress {\n",
              "                /* gets rid of default border in Firefox and Opera. */\n",
              "                border: none;\n",
              "                /* Needs to be in here for Safari polyfill so background images work as expected. */\n",
              "                background-size: auto;\n",
              "            }\n",
              "            .progress-bar-interrupted, .progress-bar-interrupted::-webkit-progress-bar {\n",
              "                background: #F44336;\n",
              "            }\n",
              "        </style>\n",
              "      <progress value='10' class='' max='10' style='width:300px; height:20px; vertical-align: middle;'></progress>\n",
              "      100.00% [10/10 06:04<00:00]\n",
              "    </div>\n",
              "    "
            ],
            "text/plain": [
              "<IPython.core.display.HTML object>"
            ]
          },
          "metadata": {
            "tags": []
          }
        },
        {
          "output_type": "display_data",
          "data": {
            "text/html": [
              "\n",
              "    <div>\n",
              "        <style>\n",
              "            /* Turns off some styling */\n",
              "            progress {\n",
              "                /* gets rid of default border in Firefox and Opera. */\n",
              "                border: none;\n",
              "                /* Needs to be in here for Safari polyfill so background images work as expected. */\n",
              "                background-size: auto;\n",
              "            }\n",
              "            .progress-bar-interrupted, .progress-bar-interrupted::-webkit-progress-bar {\n",
              "                background: #F44336;\n",
              "            }\n",
              "        </style>\n",
              "      <progress value='7' class='' max='12' style='width:300px; height:20px; vertical-align: middle;'></progress>\n",
              "      58.33% [7/12 00:44<00:31]\n",
              "    </div>\n",
              "    "
            ],
            "text/plain": [
              "<IPython.core.display.HTML object>"
            ]
          },
          "metadata": {
            "tags": []
          }
        },
        {
          "output_type": "stream",
          "text": [
            " r/medicine: total number of posts obtained: 1920\n"
          ],
          "name": "stdout"
        },
        {
          "output_type": "display_data",
          "data": {
            "text/html": [
              "\n",
              "    <div>\n",
              "        <style>\n",
              "            /* Turns off some styling */\n",
              "            progress {\n",
              "                /* gets rid of default border in Firefox and Opera. */\n",
              "                border: none;\n",
              "                /* Needs to be in here for Safari polyfill so background images work as expected. */\n",
              "                background-size: auto;\n",
              "            }\n",
              "            .progress-bar-interrupted, .progress-bar-interrupted::-webkit-progress-bar {\n",
              "                background: #F44336;\n",
              "            }\n",
              "        </style>\n",
              "      <progress value='5' class='' max='12' style='width:300px; height:20px; vertical-align: middle;'></progress>\n",
              "      41.67% [5/12 00:35<00:50]\n",
              "    </div>\n",
              "    "
            ],
            "text/plain": [
              "<IPython.core.display.HTML object>"
            ]
          },
          "metadata": {
            "tags": []
          }
        },
        {
          "output_type": "stream",
          "text": [
            " r/books: total number of posts obtained: 1651\n"
          ],
          "name": "stdout"
        },
        {
          "output_type": "display_data",
          "data": {
            "text/html": [
              "\n",
              "    <div>\n",
              "        <style>\n",
              "            /* Turns off some styling */\n",
              "            progress {\n",
              "                /* gets rid of default border in Firefox and Opera. */\n",
              "                border: none;\n",
              "                /* Needs to be in here for Safari polyfill so background images work as expected. */\n",
              "                background-size: auto;\n",
              "            }\n",
              "            .progress-bar-interrupted, .progress-bar-interrupted::-webkit-progress-bar {\n",
              "                background: #F44336;\n",
              "            }\n",
              "        </style>\n",
              "      <progress value='6' class='' max='12' style='width:300px; height:20px; vertical-align: middle;'></progress>\n",
              "      50.00% [6/12 00:23<00:23]\n",
              "    </div>\n",
              "    "
            ],
            "text/plain": [
              "<IPython.core.display.HTML object>"
            ]
          },
          "metadata": {
            "tags": []
          }
        },
        {
          "output_type": "stream",
          "text": [
            " r/datascience: total number of posts obtained: 1561\n"
          ],
          "name": "stdout"
        },
        {
          "output_type": "display_data",
          "data": {
            "text/html": [
              "\n",
              "    <div>\n",
              "        <style>\n",
              "            /* Turns off some styling */\n",
              "            progress {\n",
              "                /* gets rid of default border in Firefox and Opera. */\n",
              "                border: none;\n",
              "                /* Needs to be in here for Safari polyfill so background images work as expected. */\n",
              "                background-size: auto;\n",
              "            }\n",
              "            .progress-bar-interrupted, .progress-bar-interrupted::-webkit-progress-bar {\n",
              "                background: #F44336;\n",
              "            }\n",
              "        </style>\n",
              "      <progress value='5' class='' max='12' style='width:300px; height:20px; vertical-align: middle;'></progress>\n",
              "      41.67% [5/12 00:18<00:26]\n",
              "    </div>\n",
              "    "
            ],
            "text/plain": [
              "<IPython.core.display.HTML object>"
            ]
          },
          "metadata": {
            "tags": []
          }
        },
        {
          "output_type": "stream",
          "text": [
            " r/truegaming: total number of posts obtained: 1834\n"
          ],
          "name": "stdout"
        },
        {
          "output_type": "display_data",
          "data": {
            "text/html": [
              "\n",
              "    <div>\n",
              "        <style>\n",
              "            /* Turns off some styling */\n",
              "            progress {\n",
              "                /* gets rid of default border in Firefox and Opera. */\n",
              "                border: none;\n",
              "                /* Needs to be in here for Safari polyfill so background images work as expected. */\n",
              "                background-size: auto;\n",
              "            }\n",
              "            .progress-bar-interrupted, .progress-bar-interrupted::-webkit-progress-bar {\n",
              "                background: #F44336;\n",
              "            }\n",
              "        </style>\n",
              "      <progress value='5' class='' max='12' style='width:300px; height:20px; vertical-align: middle;'></progress>\n",
              "      41.67% [5/12 00:16<00:23]\n",
              "    </div>\n",
              "    "
            ],
            "text/plain": [
              "<IPython.core.display.HTML object>"
            ]
          },
          "metadata": {
            "tags": []
          }
        },
        {
          "output_type": "stream",
          "text": [
            " r/politicaldiscussion: total number of posts obtained: 1883\n"
          ],
          "name": "stdout"
        },
        {
          "output_type": "display_data",
          "data": {
            "text/html": [
              "\n",
              "    <div>\n",
              "        <style>\n",
              "            /* Turns off some styling */\n",
              "            progress {\n",
              "                /* gets rid of default border in Firefox and Opera. */\n",
              "                border: none;\n",
              "                /* Needs to be in here for Safari polyfill so background images work as expected. */\n",
              "                background-size: auto;\n",
              "            }\n",
              "            .progress-bar-interrupted, .progress-bar-interrupted::-webkit-progress-bar {\n",
              "                background: #F44336;\n",
              "            }\n",
              "        </style>\n",
              "      <progress value='5' class='' max='12' style='width:300px; height:20px; vertical-align: middle;'></progress>\n",
              "      41.67% [5/12 00:20<00:28]\n",
              "    </div>\n",
              "    "
            ],
            "text/plain": [
              "<IPython.core.display.HTML object>"
            ]
          },
          "metadata": {
            "tags": []
          }
        },
        {
          "output_type": "stream",
          "text": [
            " r/debatereligion: total number of posts obtained: 1792\n"
          ],
          "name": "stdout"
        },
        {
          "output_type": "display_data",
          "data": {
            "text/html": [
              "\n",
              "    <div>\n",
              "        <style>\n",
              "            /* Turns off some styling */\n",
              "            progress {\n",
              "                /* gets rid of default border in Firefox and Opera. */\n",
              "                border: none;\n",
              "                /* Needs to be in here for Safari polyfill so background images work as expected. */\n",
              "                background-size: auto;\n",
              "            }\n",
              "            .progress-bar-interrupted, .progress-bar-interrupted::-webkit-progress-bar {\n",
              "                background: #F44336;\n",
              "            }\n",
              "        </style>\n",
              "      <progress value='6' class='' max='12' style='width:300px; height:20px; vertical-align: middle;'></progress>\n",
              "      50.00% [6/12 00:27<00:27]\n",
              "    </div>\n",
              "    "
            ],
            "text/plain": [
              "<IPython.core.display.HTML object>"
            ]
          },
          "metadata": {
            "tags": []
          }
        },
        {
          "output_type": "stream",
          "text": [
            " r/investing: total number of posts obtained: 1574\n"
          ],
          "name": "stdout"
        },
        {
          "output_type": "display_data",
          "data": {
            "text/html": [
              "\n",
              "    <div>\n",
              "        <style>\n",
              "            /* Turns off some styling */\n",
              "            progress {\n",
              "                /* gets rid of default border in Firefox and Opera. */\n",
              "                border: none;\n",
              "                /* Needs to be in here for Safari polyfill so background images work as expected. */\n",
              "                background-size: auto;\n",
              "            }\n",
              "            .progress-bar-interrupted, .progress-bar-interrupted::-webkit-progress-bar {\n",
              "                background: #F44336;\n",
              "            }\n",
              "        </style>\n",
              "      <progress value='1' class='' max='12' style='width:300px; height:20px; vertical-align: middle;'></progress>\n",
              "      8.33% [1/12 00:13<02:26]\n",
              "    </div>\n",
              "    "
            ],
            "text/plain": [
              "<IPython.core.display.HTML object>"
            ]
          },
          "metadata": {
            "tags": []
          }
        },
        {
          "output_type": "stream",
          "text": [
            " r/relationships: total number of posts obtained: 1788\n"
          ],
          "name": "stdout"
        },
        {
          "output_type": "display_data",
          "data": {
            "text/html": [
              "\n",
              "    <div>\n",
              "        <style>\n",
              "            /* Turns off some styling */\n",
              "            progress {\n",
              "                /* gets rid of default border in Firefox and Opera. */\n",
              "                border: none;\n",
              "                /* Needs to be in here for Safari polyfill so background images work as expected. */\n",
              "                background-size: auto;\n",
              "            }\n",
              "            .progress-bar-interrupted, .progress-bar-interrupted::-webkit-progress-bar {\n",
              "                background: #F44336;\n",
              "            }\n",
              "        </style>\n",
              "      <progress value='1' class='' max='12' style='width:300px; height:20px; vertical-align: middle;'></progress>\n",
              "      8.33% [1/12 00:29<05:26]\n",
              "    </div>\n",
              "    "
            ],
            "text/plain": [
              "<IPython.core.display.HTML object>"
            ]
          },
          "metadata": {
            "tags": []
          }
        },
        {
          "output_type": "stream",
          "text": [
            " r/casualconversation: total number of posts obtained: 1952\n"
          ],
          "name": "stdout"
        },
        {
          "output_type": "display_data",
          "data": {
            "text/html": [
              "\n",
              "    <div>\n",
              "        <style>\n",
              "            /* Turns off some styling */\n",
              "            progress {\n",
              "                /* gets rid of default border in Firefox and Opera. */\n",
              "                border: none;\n",
              "                /* Needs to be in here for Safari polyfill so background images work as expected. */\n",
              "                background-size: auto;\n",
              "            }\n",
              "            .progress-bar-interrupted, .progress-bar-interrupted::-webkit-progress-bar {\n",
              "                background: #F44336;\n",
              "            }\n",
              "        </style>\n",
              "      <progress value='1' class='' max='12' style='width:300px; height:20px; vertical-align: middle;'></progress>\n",
              "      8.33% [1/12 00:16<03:05]\n",
              "    </div>\n",
              "    "
            ],
            "text/plain": [
              "<IPython.core.display.HTML object>"
            ]
          },
          "metadata": {
            "tags": []
          }
        },
        {
          "output_type": "stream",
          "text": [
            " r/legaladvice: total number of posts obtained: 1951\n"
          ],
          "name": "stdout"
        }
      ]
    },
    {
      "cell_type": "code",
      "metadata": {
        "id": "NuUMFpimyPHJ",
        "colab": {
          "base_uri": "https://localhost:8080/",
          "height": 204
        },
        "outputId": "92191d9f-76ec-4153-be1d-629b8cf9b7de"
      },
      "source": [
        "final_df.subreddit.value_counts()"
      ],
      "execution_count": null,
      "outputs": [
        {
          "output_type": "display_data",
          "data": {
            "text/html": [
              "<style> pre { white-space: pre-wrap;} </style>"
            ],
            "text/plain": [
              "<IPython.core.display.HTML object>"
            ]
          },
          "metadata": {
            "tags": []
          }
        },
        {
          "output_type": "display_data",
          "data": {
            "text/html": [
              "<style> pre { white-space: pre-wrap;} </style>"
            ],
            "text/plain": [
              "<IPython.core.display.HTML object>"
            ]
          },
          "metadata": {
            "tags": []
          }
        },
        {
          "output_type": "display_data",
          "data": {
            "text/html": [
              "<style> pre { white-space: pre-wrap;} </style>"
            ],
            "text/plain": [
              "<IPython.core.display.HTML object>"
            ]
          },
          "metadata": {
            "tags": []
          }
        },
        {
          "output_type": "execute_result",
          "data": {
            "text/plain": [
              "casualconversation     1952\n",
              "legaladvice            1951\n",
              "medicine               1920\n",
              "politicaldiscussion    1883\n",
              "truegaming             1834\n",
              "debatereligion         1792\n",
              "relationships          1788\n",
              "books                  1651\n",
              "investing              1574\n",
              "datascience            1561\n",
              "Name: subreddit, dtype: int64"
            ]
          },
          "metadata": {
            "tags": []
          },
          "execution_count": 79
        }
      ]
    },
    {
      "cell_type": "code",
      "metadata": {
        "colab": {
          "base_uri": "https://localhost:8080/",
          "height": 3795
        },
        "id": "vUR8_PWy4_zG",
        "outputId": "a39b32dd-f8bf-49f3-8392-beec85bb4a7f"
      },
      "source": [
        "final_df['score'] = final_df['score'].astype(int) \n",
        "final_df.drop_duplicates(subset=['title','text','subreddit'],inplace=True) #remove duplicate posts\n",
        "print(\"Size of the dataset:\",len(final_df))\n",
        "final_df.head()"
      ],
      "execution_count": null,
      "outputs": [
        {
          "output_type": "display_data",
          "data": {
            "text/html": [
              "<style> pre { white-space: pre-wrap;} </style>"
            ],
            "text/plain": [
              "<IPython.core.display.HTML object>"
            ]
          },
          "metadata": {
            "tags": []
          }
        },
        {
          "output_type": "display_data",
          "data": {
            "text/html": [
              "<style> pre { white-space: pre-wrap;} </style>"
            ],
            "text/plain": [
              "<IPython.core.display.HTML object>"
            ]
          },
          "metadata": {
            "tags": []
          }
        },
        {
          "output_type": "display_data",
          "data": {
            "text/html": [
              "<style> pre { white-space: pre-wrap;} </style>"
            ],
            "text/plain": [
              "<IPython.core.display.HTML object>"
            ]
          },
          "metadata": {
            "tags": []
          }
        },
        {
          "output_type": "stream",
          "text": [
            "Size of the dataset: 17906\n"
          ],
          "name": "stdout"
        },
        {
          "output_type": "execute_result",
          "data": {
            "application/vnd.google.colaboratory.module+javascript": "\n      import \"https://ssl.gstatic.com/colaboratory/data_table/a6224c040fa35dcf/data_table.js\";\n\n      window.createDataTable({\n        data: [[{\n            'v': 0,\n            'f': \"0\",\n        },\n\"3 Days of Inpatient Care in New York\",\n\"Day 1.\\n\\n3 COVID cases in a census of 14 (one hospitalist called out sick today so I got to spend my morning scrambling to get caught up with the new adds).\\n\\n49M with no significant PMH who tested positive for COVID. Fever and DoE for a couple weeks now. A couple weeks. Now it\\u2019s at rest too, which brought him in.\\n\\nHe was desatting to the high 80s on 2L O2, nurse bumped it to 4L. SpO2 mid 90s now. He feels fine so long as he doesn\\u2019t get out of bed.\\n\\nHis lungs sound like shit, bilateral basilar rales to about a third of the way up. Nurse is concerned and I\\u2019m concerned that he\\u2019s heading towards ARDS. So I do the typical CXR and ABG so I can at least get a baseline if he goes south.\\n\\nI found out later that to minimize exposure, *we shouldn\\u2019t get serial imaging or labs more than once a day*. Oh, and BIPAP doesn\\u2019t help apparently so the progression is just maxing out O2 on a nonrebreather then proceeding directly to intubation. Do not pass go, do not collect $200, just straight to the tube.\\n\\nThe hospital is receiving 3-4 extra non-COVID patients from another hospital that is already maxed out. Already.\\n\\nThe other residents not already scheduled for inpatient or the ICU got told to expect to be mobilized to come in.\\n\\nI\\u2019m *terrified.*\\n\\nI\\u2019m going to do what I can to protect my team as the senior. I\\u2019m going to make COVID cases volunteer only, or I\\u2019ll see all of them myself and write the notes.\\n\\nAll I want to do is go home and cry and go to sleep.\\n\\n&#x200B;\\n\\n&#x200B;\\n\\nDay 2\\n\\n\\u201cQueens is drowning, it\\u2019s underwater.\\u201d\\n\\nAll hands on deck meeting with the medical director of the hospital. Went over the new guidelines (which change daily) about the number of transferred patients we\\u2019re getting from maxed out hospitals, and everything from personal protection equipment, to the shitty disposable stethoscopes in the rooms, to COVID management, to the fairest way of splitting up positive COVID cases among the hospitalists. Lots of back and forth on the idea of COVID-only rounders vs evenly splitting up the cases. They flat out said the extra Residents would be working a COVID only service.\\n\\nI chimed in asking how long it was before we are a COVID MAJORITY hospital, at which point this becomes moot. I figure it\\u2019ll be with the next 2 days.\\n\\n37 confirmed positive COVID patients. 17 rule outs. 7 COVID patients on ventilators. (Overall census is low too, only 139 active cases because we\\u2019ve been kicking out the not-too-ill.)\\n\\n2 confirmed on my census, 2 highly likely pending, 1 low likely.\\n\\nOne of those high-likely is 29.\\n\\nHad a curbside consult with an ICU attending.\\n\\nMed redditors: I\\u2019ve now heard from both a pulmonologist and ICU attendings who say unlike your typical septic patient, COVID cases should be *dry* before they need to be intubated. And having patients self prone can improve SpO2 by 5-10%.\\n\\nOh and when I said one my patients is hypoxic on high flow O2 and might need to be intubated, he asked her age (88), flat out said she\\u2019d never get off the ventilator and then darkly implied that we\\u2019re close to a point where \\u201cdecisions\\u201d would have to be made.\\n\\n...\\n\\nLast night, immediately after I got home I vomited from the anxiety of the day. Held it together that long at least.\\n\\n&#x200B;\\n\\n&#x200B;\\n\\nDay 3.\\n\\nCode Blue right off the bat at 7:35. COVID in the ICU, transferred an hour earlier from another maxed hospital. From the chart: 66F with DM2, CAD, HTN. 5 days of cough and body aches, a little short of breath. She was seen by an ED physician just after midnight two days ago. Within 8 hours she had crashed and required intubation. Multifocal pneumonia with positive COVID. Officially admitted to that ICU 24 hours later. Transferred to our ICU 24 hours after that, and 1 hour later her Discharge Note for the Expired Patient was written.\\n\\nShe marks the first COVID patient I\\u2019ve seen die.\\n\\nThe anxiety I felt a couple days ago isn\\u2019t so bad now. It\\u2019s clear there was no avoiding this mass casualty event. Now there\\u2019s just work to do.\\n\\nThe thing about intubating a COVID case is it\\u2019s a high risk droplet bomb going off around the guys and gals most needed right now: intensivists, anesthesiologists and those badass ICU nurses who are all needed to tube people whose lungs are filling up with fluid. Hospitalists might be able to pick up the slack, but they haven\\u2019t the same muscle memory.\\n\\nSo as I\\u2019m watching this woman die in her closed glass box of an ICU room, a grizzled doctor with the swagger of an old intensivist says to no one in particular, \\u201cIs that a confirmed positive? Not going anywhere NEAR there!\\u201d\\n\\nA nurse over to my left says, \\u201cWe shouldn\\u2019t have to Code cases like this.\\u201d And it\\u2019s not with the same tone as \\u201cThis is pointless,\\u201d it\\u2019s \\u201cThis puts us in danger for nothing.\\u201d I stay out of the room, the extra manpower of one extra resident won\\u2019t be worth the PPE for chest compressions. But my chief resident is in there.\\n\\nHe\\u2019s a good guy; hope he doesn\\u2019t get sick.\\n\\n(As I write this, I get a call that one of my patients has died. Non-COVID, was in denial about her metastatic cancer, COPD, CHF progressively worse shortness of breath but still wanted to be intubated. She got her wish and died within an hour or two still.)\\n\\nThen a Rapid Response at 7:56. Then a Rapid Response at 8:01. Then a Rapid Response at 10:30. That last one was for the patient I just mentioned who passed, we put her on BIPAP and loaded her up with Lasix. Then a Rapid Response again at 12:30, again for my patient, watched the intubation occur. There was a minor discussion of where to put her, since the ICU and CCU were full. We\\u2019re in the process of transitioning the SICU into another ventilator bay.\\n\\nLunch arrives sometime after 13:00. Here\\u2019s one silver lining to all this: the community has gone out of its way to shower us with food. My lunches and dinners (residents know to always raid the hospitalists\\u2019 office and grab a plate before heading home to crash) have been Mediterranean chicken kebobs on Sunday, chicken piccata on Monday, and pizza today. It genuinely raises moral.\\n\\nAnother Rapid as I\\u2019m talking to some other residents and wolfing down a slice. Most of these Rapids have been for non-COVID cases. The ones that are about COVID cases turn into intubation events.\\n\\nI was wrong yesterday when I predicted we\\u2019d become a majority COVID case hospital in 2 days. We crossed the 51% threshold today.\\n\\nI was na\\u00efve when I thought I could volunteer for the resident-run COVID wing so that one less of my fellow residents would be put at risk. We\\u2019re all at risk. So now we have 3 residents and an outpatient attending looking over 10 confirmed COVID cases.\\n\\nMy census of 13 today has 5 confirmed and 1 suspected COVID patients. I wish we could make these cases voluntary, but all we can do now is limit exposure and spread out the cases somewhat.\\n\\nI get a call that our 88 year old COVID patient is desatting on 6L supplemental O2 via nasal canula. So we put her on a non-rebreather. I get a call that she\\u2019s desatting down to the mid-80s when talking in long sentences despite the 100% oxygen she\\u2019s receiving via mask. The nurse is spooked, and the current plan is to do a Full Code should she tank. So the patient and I get to have The Talk.\\n\\nThe Talk is basically asking people if they want to receive (often futile) CPR that cracks their ribs as they die, or if they would prefer to be attached to machines when they die. But I don\\u2019t put it like that. I say things like \\u201cchest compressions\\u201d and \\u201ca plastic tube down your throat\\u201d but made it clear that if she were to be sedated for the intubation, she may never wake up. And despite our plans and treatments, her body is taking actions that will most likely (but we can never say guaranteed) going to end her life. Not today, but it\\u2019s a good time to put things in order.\\n\\nThe patient said her daughters want everything to be done for her, but she doesn\\u2019t want to be on machines when she dies. I said that was reasonable. She asked me what I would do, and what I would want for my mother.\\n\\nI\\u2019m not proud of this next part.\\n\\nI told the truth. I said that my mom and I have worked in medicine, and she would never want to be intubated if it was a long shot she\\u2019d ever recover. I told her I recently only rescinded my own Do Not Intubate order because were I to get COVID and need intubation, I\\u2019m a young, healthy guy who could survive it. But were I hit by a truck and braindead, I\\u2019d never want to be intubated. She said she\\u2019d call her daughter back and explain things.\\n\\nI get a call later saying this very sharp 88 year old lady has signed the form declaring her Do Not Resuscitate / Do Not Intubate.\\n\\nIntubation would have been the wrong choice here, I believe that. And I only told the truth (which I usually avoid by saying things like \\u201cit\\u2019s not for me to make you decide either way.\\u201d)  \\nI helped the patient make her personal wishes count at the end of her life so she could die on her terms.\\n\\nBut, in the back of my head, I was also thinking I saved the nurses from having to witness a pointless and traumatic CPR and I saved one likely-inevitable ICU bed and a ventilator.\\n\\n\\u2026\\n\\nI don\\u2019t feel like writing anymore today.\",\n{\n            'v': 4838,\n            'f': \"4838\",\n        },\n\"medicine\",\n\"https://www.reddit.com/r/medicine/comments/fp24qc/3_days_of_inpatient_care_in_new_york/\"],\n [{\n            'v': 1,\n            'f': \"1\",\n        },\n\"Help! A doctor in my hometown was kidnapped by the police and tortured.\",\n\"Well, here goes nothing, I hope this gets at least some visibility so doctors outside of Mexico find out what it's like to work here. I'm afraid it'll be a long post since I couldn't find any news in English, I'll link to a source in Spanish at the end if someone would like to read it first-hand. \\n\\nDr Azucena Calvillo works with critically ill COVID patients at the ICU in a public hospital in Durango, M\\u00e9xico; last Friday she left her job at around 8:30pm and her family lost track of her. Local medical colleges started sharing her data and a picture in case anyone saw her or knew anything regarding her whereabouts. Later that same day we found out she had been taken by the local authority; they put her in a safe house and tortured her, then she was imprisoned without a trial.\\n\\nMedical Colleges now nationwide started raising their voices and she was released and thankfully is now home; however, she's still being charged with attempted murder, at least she's not in jail anymore... \\n\\nThey're accusing her of trying to murder a magistrate who was under her care in the ICU under mechanical ventilation, suffering from severe COVID-19. The prosecutor's office claims she came into the hospital outside her work hours and tried to shut off the man's ventilator, but the alarm went off and she ran away. We're talking about a 34 year old female internist who's been battling this disease for more than 9 months, putting herself and her family at risk, with a spotless record. \\n\\nThey claim to have video evidence of her leaving the room, and her car being in the parking lot at that time; however all you can see in the video is someone clad from head to toe in PPE, impossible to even determine with full certainty that it's a female. Off this evidence she was taken without a warrant into police custody, due to legal reasons they've yet to reveal how exactly she was physically tortured, but what we know for sure is they threatened to kill her, her husband who is a nurse working in the same hospital and her daughter if she didn't sign a confession, or if she dared speak about what happened.\\n\\nWhy her? No clue, apparently she had a recent argument with the magistrate's sister who's also State Delegate of Tamaulipas Social Security Institute (IMSS), basically a very influential person. Apparently that was her mistake, antagonising someone powerful.\\n\\nSo that's basically it, I tried to keep it as short as possible, if you want more details or you can read Spanish here's a [link to the story](https://elpais.com/mexico/2020-12-09/el-caso-de-la-doctora-acusada-de-intento-de-homicidio-contra-un-magistrado-con-covid-acumula-interrogantes.html)\\n\\nHope this gets some visibility, because it's a terrible situation.\\n\\nEdit: Sorry, not health secretary, was a mixup on my part she's IMSS' delegate\\n\\nEdit 2: UPDATE: All charges have been dropped, but now it seems no one is responsible, so the colleges are still pushing for consequences for those involved in the kidnapping; it's all real shady, but at least now she is not at risk of losing her freedom again. Thank you everyone for your support and your interest in the matter. Apparently protests will continue, I'll keep you all updated\\n\\nUPDATE 2: There was a march yesterday and there's now a change.org petition moving around asking for the [prosecutor's destitution](http://chng.it/DY96tg78) The marches will keep up until there are consequences for those responsible for her kidnapping\",\n{\n            'v': 4643,\n            'f': \"4643\",\n        },\n\"medicine\",\n\"https://www.reddit.com/r/medicine/comments/kb3fth/help_a_doctor_in_my_hometown_was_kidnapped_by_the/\"],\n [{\n            'v': 2,\n            'f': \"2\",\n        },\n\"There is no emergency in a pandemic\",\n\"I was asked to repost this with the news of 13 Italian doctors dying from COVID-19. If you do not have proper PPE, do not go in. No matter what.\\n\\nThis post is for my healthcare workers, docs, surgeons, Nurses, aids, and ems, and all staff.\\n\\nThere is no emergency in a pandemic\\n\\nYou as a healthcare worker are a force multiplier. Your training and experience is invaluable moving into this crisis. So, you're going to be faced with some very difficult moments. You're going to have to put your needs first.\\n\\nI'm speaking specifically about PPE and your safety.\\n\\nIf you're an ICU nurse, or an ICU doc, and you become infected, not only are you out of the game for potentially weeks (or killed) But your replacements could be people without your expertise. Your remaining co workers are short staffed now, more likely to make mistakes and become ill themselves. You stop being a force multiplier and start using healthcare resources.\\n\\nYou going in may save the patient, it may not. But you cant save any patients in the weeks you're laying in a hospital bed or using a vent yourself.\\n\\nPeople are going to die. Do not become one of them. \\n\\nThere is no emergency in a pandemic.\\n\\nDuring the Ebola outbreak, people were dying. But at no point did we rush in, we took the 10 minutes to put on our PPE with our spotter. If we didn't have proper PPE we did NOT go in.\\n\\nThere is no emergency in a pandemic.\\n\\nYou may work in long term care, and want to rush in to save a patient you have had for years. Do not go in without your PPE\\n\\nThere is no emergency in a pandemic.\\n\\nYou may have a survivor in the room, screaming at you to come in because their mother is crashing. Do not go in without your PPE.\\n\\nThere is no emergency in a pandemic.\\n\\nYou may have an infected woman in labor. Screaming for help. Do not go in without your PPE.\\n\\nThere is no emergency in a pandemic.\\n\\nYou may have A self qaurentined patient with a gun shot wound and is bleeding out. Do not go in there without your PPE\\n\\nThere is no emergency in a pandemic \\n\\nDoing nothing may be the hardest thing you've ever had to do in your life.\\n\\nMany of you say, I could never do that. I wouldn't be able to stop myself from rushing in and saving my patient. \\n\\nLiberian nurses and doctors said the same thing, and many did run in to help, saying PPE be damned. My patients need me.\\n\\nThen they became infected, they infected others. And they died. They didn't help anyone after that.\\n\\nDo not let the deaths of hundreds of healthcare workers be forgotten.\",\n{\n            'v': 4240,\n            'f': \"4240\",\n        },\n\"medicine\",\n\"https://www.reddit.com/r/medicine/comments/flk0e3/there_is_no_emergency_in_a_pandemic/\"],\n [{\n            'v': 3,\n            'f': \"3\",\n        },\n\"Testimony of a surgeon working in Bergamo, in the heart of Italy's coronavirus outbreak\",\n\"\\u00abIn one of the non-stop e-mails that I receive from my hospital administration on a more than daily basis, there was a paragraph on \\\"how to be responsible on social media\\\", with some recommendations that we all can agree on. After thinking for a long time if and what to write about what's happening here, I felt that silence was not responsible. I will therefore try to convey to lay-people, those who are more distant from our reality, what we are experiencing in Bergamo during these Covid-19 pandemic days. I understand the need not to panic, but when the message of the danger of what is happening is not out, and I still see people ignoring the recommendations and people who gather together complaining that they cannot go to the gym or play soccer tournaments, I shiver. I also understand the economic damage and I am also worried about that. After this epidemic, it will be hard to start over.\\n\\nStill, beside the fact that we are also devastating our national health system from an economic point of view, I want to point out that the public health damage that is going to invest the country is more important and I find it nothing short of \\\"chilling\\\" that new quarantine areas requested by the Region has not yet been established for the municipalities of Alzano Lombardo and Nembro (I would like to clarify that this is purely personal opinion). I myself looked with some amazement at the reorganization of the entire hospital in the previous week, when our current enemy was still in the shadows: the wards slowly \\\"emptied\\\", elective activities interrupted, intensive care unit freed to create as many beds as possible. Containers arriving in front of the emergency room to create diversified routes and avoid infections. All this rapid transformation brought in the hallways of the hospital an atmosphere of surreal silence and emptiness that we did not understand, waiting for a war that had yet to begin and that many (including me) were not so sure would never come with such ferocity (I open a parenthesis: all this was done in the shadows, and without publicity, while several newspapers had the courage to say that private health care was not doing anything).\\n\\nI still remember my night shift a week ago spent without any rest, waiting for a call from the microbiology department. I was waiting for the results of a swab taken from the first suspect case in our hospital, thinking about what consequences it would have for us and the hospital. If I think about it, my agitation for one possible case seems almost ridiculous and unjustified, now that I have seen what is happening. Well, the situation is now nothing short of dramatic. No other words come to mind. The war has literally exploded and battles are uninterrupted day and night. One after the other, these unfortunate people come to the emergency room. They have far from the complications of a flu. Let's stop saying it's a bad flu. In my two years working in Bergamo, I have learned that the people here do not come to the emergency room for no reason. They did well this time too. They followed all the recommendations given: a week or ten days at home with a fever without going out to prevent contagion, but now they can't take it anymore. They don't breathe enough, they need oxygen. Drug therapies for this virus are few.\\n\\nThe course mainly depends on our organism. We can only support it when it can't take it anymore. It is mainly hoped that our body will eradicate the virus on its own, let's face it. Antiviral therapies are experimental on this virus and we learn its behavior day after day. Staying at home until the symptoms worsen does not change the prognosis of the disease. Now, however, that need for beds in all its drama has arrived. One after another, the departments that had been emptied are filling up at an impressive rate. The display boards with the names of the sicks, of different colors depending on the department they belong to, are now all red and instead of the surgical procedure, there is the diagnosis, which is always the same: bilateral interstitial pneumonia. Now, tell me which flu virus causes such a rapid tragedy.\\n\\nBecause that's the difference (now I get a little technical): in classical flu, besides that it infects much less population over several months, cases are complicated less frequently: only when the virus has destroyed the protective barriers of our airways and as such it allows bacteria (which normally resident in the upper airways) to invade the bronchi and lungs, causing a more serious disease. Covid 19 causes a banal flu in many young people, but in many elderly people (and not only) a real SARS because it invades the alveoli of the lungs directly, and it infects them making them unable to perform their function. The resulting respiratory failure is often serious and after a few days of hospitalization, the simple oxygen that can be administered in a ward may not be enough. Sorry, but to me, as a doctor, it's not reassuring that the most serious are mainly elderly people with other pathologies. The elderly population is the most represented in our country and it is difficult to find someone who, above 65 years of age, does not take at least a pill for high blood pressure or diabetes.\\n\\nI can also assure you that when you see young people who end up intubated in the ICU, pronated or worse, in ECMO (a machine for the worst cases, which extracts the blood, re-oxygenates it and returns it to the body, waiting for the lungs to hopefully heal), all this confidence for your young age goes away. And while there are still people on social media who boast of not being afraid by ignoring the recommendations, protesting that their normal lifestyle habits have \\\"temporarily\\\" halted, the epidemiological disaster is taking place. And there are no more surgeons, urologists, orthopedists, we are only doctors who suddenly become part of a single team to face this tsunami that has overwhelmed us.\\n\\nThe cases multiply, up to a rate of 15-20 hospitalizations a day all for the same reason. The results of the swabs now come one after the other: positive, positive, positive. Suddenly the emergency room is collapsing. Emergency provisions are issued: help is needed in the emergency room. A quick meeting to learn how the to use to emergency room EHR and a few minutes later I'm already downstairs, next to the warriors on the war front. The screen of the PC with the chief complaint is always the same: fever and respiratory difficulty, fever and cough, respiratory insufficiency etc ... Exams, radiology always with the same sentence: bilateral interstitial pneumonia. All needs to be hospitalized. Some already needs to be intubated, and goes to the ICU. For others, however, it is late. ICU is full, and when ICUs are full, more are created. Each ventilator is like gold: those in the operating rooms that have now suspended their non-urgent activity are used and the OR become a an ICU that did not exist before. I found it amazing, or at least I can speak for Humanitas Gavazzeni (where I work), how it was possible to put in place in such a short time a deployment and a reorganization of resources so finely designed to prepare for a disaster of this magnitude. And every reorganization of beds, wards, staff, work shifts and tasks is constantly reviewed day after day to try to give everything and even more. Those wards that previously looked like ghosts are now saturated, ready to try to give their best for the sick, but exhausted. The staff is exhausted. I saw fatigue on faces that didn't know what it was despite the already grueling workloads they had. I have seen people still stop beyond the times they used to stop already, for overtime that was now habitual. I saw solidarity from all of us, who never failed to go to our internist colleagues to ask \\\"what can I do for you now?\\\" or \\\"leave that admission to me, i will take care of it.\\\" Doctors who move beds and transfer patients, who administer therapies instead of nurses. Nurses with tears in their eyes because we are unable to save everyone and the vital signs of several patients at the same time reveal an already marked destiny. There are no more shifts, schedules.\\n\\nSocial life is suspended for us. I have been separated for a few months, and I assure you that I have always done my best to constantly see my son even on the day after a night shift, without sleeping and postponing sleep until when I am without him, but for almost 2 weeks I have voluntarily not seen neither my son nor my family members for fear of infecting them and in turn infecting an elderly grandmother or relatives with other health problems. I'm happy with some photos of my son that I look at between tears and a few video calls. So you should be patient too, you can't go to the theater, museums or gym. Try to have mercy on that myriad of older people you could exterminate. It is not your fault, I know, but of those who put it in your head that you are exaggerating and even this testimony may seem just an exaggeration for those who are far from the epidemic, but please, listen to us, try to leave the house only to indispensable things. Do not go en masse to make stocks in supermarkets: it is the worst thing because you concentrate and the risk of contacts with infected people who do not know they are infected. You can go there without a rush. Maybe if you have a normal mask (even those that are used to do certain manual work), put it on. Don't look for ffp2 or ffp3. Those should serve us and we are beginning to struggle to find them. By now we have had to optimize their use only in certain circumstances, as the WHO recently recommended in view of their almost ubiquitous running low. Oh yes, thanks to the shortage of certain protection devices, many colleagues and I are certainly exposed despite all the other means of protection we have. Some of us have already become infected despite the protocols. Some infected colleagues also have infected relatives and some of their family members are already struggling between life and death. We are where your fears could make you stay away. Try to make sure you stay away.\\n\\nTell your family members who are elderly or with other illnesses to stay indoors. Bring him the groceries please. We have no alternative. It's our job. Indeed what I do these days is not really the job I'm used to, but I do it anyway and I will like it as long as it responds to the same principles: try to make some sick people feel better and heal, or even just alleviate the suffering and the pain to those who unfortunately cannot heal. I don't spend a lot of words about the people who define us heroes these days and who until yesterday were ready to insult and report us. Both will return to insult and report as soon as everything is over. People forget everything quickly. And we're not even heroes these days. It's our job. We risked something bad every day before: when we put our hands in a belly full of someone's blood we don't even know if they have HIV or hepatitis C; when we do it even though we know they have HIV or hepatitis C; when we stick ourselves during an operation on a patient with HIV and take the drugs that make us vomit all day long for a month. When we read with anguish the results of the blood tests after an accidental needlestick, hoping not to be infected. We simply earn our living with something that gives us emotions. It doesn't matter if they are beautiful or ugly, we just take them home. In the end we only try to make ourselves useful for everyone. Now try to do it too, though: with our actions we influence the life and death of a few dozen people. You with yours, many more. Please share and share the message. We need to spread the word to prevent what is happening here from happening all over Italy.\\u00bb\\n\\nSources:\\n\\n[Original Facebook post](https://www.facebook.com/story.php?story_fbid=3395152210500625&id=100000176383731)\\n\\n[Italian newspaper (Corriere della Sera, edizione di Bergamo) transcript](https://bergamo.corriere.it/notizie/cronaca/20_marzo_07/coronavirus-bergamo-medico-humanitas-facebook-situazione-drammatica-altro-che-normale-influenza-4fdf6866-6088-11ea-8d61-438e0a276fc4.shtml)\\n\\nEDIT: updated sources with original FB post\",\n{\n            'v': 4102,\n            'f': \"4102\",\n        },\n\"medicine\",\n\"https://www.reddit.com/r/medicine/comments/ff8hns/testimony_of_a_surgeon_working_in_bergamo_in_the/\"],\n [{\n            'v': 4,\n            'f': \"4\",\n        },\n\"He is small for an eight-year-old boy, made even smaller by the big trauma room gurney beneath him...\",\n\"He is small for an eight-year-old boy, made even smaller by the big trauma room gurney beneath him. Two skinny, sunburnt legs stick out from a pair of much too large, frayed, hand-me-down cutoffs. Green grass stains cover the skin of both knees. His bare feet are filthy, farm boy filthy. The kind of filthy that comes from playing in the cool dirt of an old barn floor, from running through uncut fields of wheat alongside the combines, and from climbing the giant hay bales that dot the rolling hills this time of year.\\n\\nTwo hours ago he was just another shirtless boy in a cowboy hat playing in the wheat.\\n\\nHis mother stands across from me. She is perhaps thirty-two. She has sandy blonde hair, just like the boy on the gurney. I can\\u2019t see her face because it is buried in her husband\\u2019s chest. She is completely silent but her whole body shakes, trembling like an old John Deere combine with something stuck in its blades. Her husband pulls her tight, his arms wrapping around her, trying to protect her from this place, this moment.\\n\\nThe two of them clutch to each other, here, in my emergency room.\\n\\nAt the head of the bed the ventilator chimes and puffs and clicks along as it pushes air into the boy. It pushes air into lungs that collapsed and now have chest tubes draining them. Lungs that cried out just loud enough to stop thirty thousand pounds of combine from turning the boy into chaff with the wheat.\\n\\nThe boy\\u2019s arm twitches. The nurse next to me blinks back tears and adjusts his IV.\\n\\nA case like this is a bomb that detonates in our ER, in our town, in our lives. The shockwaves right now are spreading as neighbors call neighbors, as friends call friends, as family reaches out for family and parents run to check on their children. I know I will not be the only one unable to sleep tonight.\\n\\nThe father stares at his son on the gurney. His face is filled with questions for which I have no answers. How can this happen? How can something we love, something so full of life, be so fragile, so vulnerable, so easily cut down and taken from us in the blink of an eye?\\n\\nHe does not know it yet but he is now standing in a new life. A life that will always be different from the one he woke up to this morning.\\n\\nI step over to the computer to order some more sedation for the boy while we wait for the helicopter. Taped above the screen is a brand new sign. It is a decal of five gold stars. It seems so out of place at a moment like this. The last few weeks the hospital has been putting them up everywhere. They are there to remind us to give \\u2018five-star\\u2019 service- to tell our patients how much we appreciate their business and hope they will choose us for their future healthcare needs.\\n\\nThey are to be called customers now, not patients, we are told.\\n\\nCustomers.\\n\\nI tear it off the screen and wrinkle it in my hand into a ball, squeezing it tight. I shove it in the pocket of my white coat.\\n\\nTwenty-two minutes later the whine of the helicopter engine fills the air as it prepares for takeoff. I stand outside with the father, watching the big blades spin up to speed in the late August light. Inside the helicopter there is room enough for only one parent to go with the boy. One hundred and three miles away a pediatric ICU bed is waiting.\\n\\nThe helicopter lifts off and a cloud of late summer dust fills the air. The father does not move as the debris cloud swirls about his head. Instead, he stares at the window on the side of the helicopter, the dark outline of his son just visible to us both.\\n\\nWe watch the helicopter rise above the pad and rotate slowly. It climbs a little further, hesitates in the air, and then races off above the wheat fields, the grains below bowing from the thrust of its blades.\\n\\nI take out the five-star decal from my pocket, unfolding it carefully. I tear it in two and press the larger half against the brick wall behind us. I scribble my home phone number on the back.\\n\\n\\u201cLet me know,\\u201d I say.\\n\\nThe father takes the paper and nods, still staring at the shrinking outline of the helicopter. At last it disappears over the mountains in the distance. He turns to me but his eyes are empty now. He is already departing, already arriving at the next place. We shake hands and he walks slowly off to his truck. He\\u2019s got a long, quiet drive to the city ahead of him.\\n\\nI look down at what\\u2019s left of the ripped up decal in my hand.\\n\\nThe image of the boy burns bright in my mind. I know I will carry this day with me for a very long time.\\n\\nI make a fist, crumpling the decal.\\n\\nI respectfully disagree with those who want us to call them customers, healthcare consumers, or business opportunities.\\n\\nThe people we care for are sons and daughters. Mothers and fathers. Husbands and wives. They are neighbors, friends, and sometimes even colleagues.\\n\\nThey are people like you and me in a moment of need.\\n\\nThey are patients.\\n\\n***\\n*Addendum:*\\n\\nWhen I wrote this I thought maybe a couple dozen people would want to discuss it. I had no idea it would blow up like this. A couple short points:\\n\\n1. I really appreciate everyone's comments and insights- from the administrators, to the patients, to others in healthcare. I have learned a great deal just from reading your posts and I hope others have too. Those of you who share your insights and experiences with others are truly the best of reddit.\\n\\n2. To those determined to find and dox the boy in the story I say this: You are welcome to keep trying but you won't find him. Out of respect for my patients and because of HIPAA I always change enough details of anything I write in a way that makes it impossible to find the individual while staying true to what happened. I will say the original patient who inspired this story several years ago ended up fine.\\n\\n3. To those of you who asked if I have written anything else I wrote a book of short stories about being an ER doc in a small town. It's here if you are interested. http://goo.gl/7mzn2P\\n\\nThanks again for reading and for everyone's input. \",\n{\n            'v': 3994,\n            'f': \"3994\",\n        },\n\"medicine\",\n\"https://www.reddit.com/r/medicine/comments/4g8pf8/he_is_small_for_an_eightyearold_boy_made_even/\"]],\n        columns: [[\"number\", \"index\"], [\"string\", \"title\"], [\"string\", \"text\"], [\"number\", \"score\"], [\"string\", \"subreddit\"], [\"string\", \"url\"]],\n        columnOptions: [{\"width\": \"1px\", \"className\": \"index_column\"}],\n        rowsPerPage: 25,\n        helpUrl: \"https://colab.research.google.com/notebooks/data_table.ipynb\",\n        suppressOutputScrolling: true,\n        minimumWidth: undefined,\n      });\n    ",
            "text/html": [
              "<div>\n",
              "<style scoped>\n",
              "    .dataframe tbody tr th:only-of-type {\n",
              "        vertical-align: middle;\n",
              "    }\n",
              "\n",
              "    .dataframe tbody tr th {\n",
              "        vertical-align: top;\n",
              "    }\n",
              "\n",
              "    .dataframe thead th {\n",
              "        text-align: right;\n",
              "    }\n",
              "</style>\n",
              "<table border=\"1\" class=\"dataframe\">\n",
              "  <thead>\n",
              "    <tr style=\"text-align: right;\">\n",
              "      <th></th>\n",
              "      <th>title</th>\n",
              "      <th>text</th>\n",
              "      <th>score</th>\n",
              "      <th>subreddit</th>\n",
              "      <th>url</th>\n",
              "    </tr>\n",
              "  </thead>\n",
              "  <tbody>\n",
              "    <tr>\n",
              "      <th>0</th>\n",
              "      <td>3 Days of Inpatient Care in New York</td>\n",
              "      <td>Day 1.\\n\\n3 COVID cases in a census of 14 (one...</td>\n",
              "      <td>4838</td>\n",
              "      <td>medicine</td>\n",
              "      <td>https://www.reddit.com/r/medicine/comments/fp2...</td>\n",
              "    </tr>\n",
              "    <tr>\n",
              "      <th>1</th>\n",
              "      <td>Help! A doctor in my hometown was kidnapped by...</td>\n",
              "      <td>Well, here goes nothing, I hope this gets at l...</td>\n",
              "      <td>4643</td>\n",
              "      <td>medicine</td>\n",
              "      <td>https://www.reddit.com/r/medicine/comments/kb3...</td>\n",
              "    </tr>\n",
              "    <tr>\n",
              "      <th>2</th>\n",
              "      <td>There is no emergency in a pandemic</td>\n",
              "      <td>I was asked to repost this with the news of 13...</td>\n",
              "      <td>4240</td>\n",
              "      <td>medicine</td>\n",
              "      <td>https://www.reddit.com/r/medicine/comments/flk...</td>\n",
              "    </tr>\n",
              "    <tr>\n",
              "      <th>3</th>\n",
              "      <td>Testimony of a surgeon working in Bergamo, in ...</td>\n",
              "      <td>«In one of the non-stop e-mails that I receive...</td>\n",
              "      <td>4102</td>\n",
              "      <td>medicine</td>\n",
              "      <td>https://www.reddit.com/r/medicine/comments/ff8...</td>\n",
              "    </tr>\n",
              "    <tr>\n",
              "      <th>4</th>\n",
              "      <td>He is small for an eight-year-old boy, made ev...</td>\n",
              "      <td>He is small for an eight-year-old boy, made ev...</td>\n",
              "      <td>3994</td>\n",
              "      <td>medicine</td>\n",
              "      <td>https://www.reddit.com/r/medicine/comments/4g8...</td>\n",
              "    </tr>\n",
              "  </tbody>\n",
              "</table>\n",
              "</div>"
            ],
            "text/plain": [
              "                                               title  ...                                                url\n",
              "0               3 Days of Inpatient Care in New York  ...  https://www.reddit.com/r/medicine/comments/fp2...\n",
              "1  Help! A doctor in my hometown was kidnapped by...  ...  https://www.reddit.com/r/medicine/comments/kb3...\n",
              "2                There is no emergency in a pandemic  ...  https://www.reddit.com/r/medicine/comments/flk...\n",
              "3  Testimony of a surgeon working in Bergamo, in ...  ...  https://www.reddit.com/r/medicine/comments/ff8...\n",
              "4  He is small for an eight-year-old boy, made ev...  ...  https://www.reddit.com/r/medicine/comments/4g8...\n",
              "\n",
              "[5 rows x 5 columns]"
            ]
          },
          "metadata": {
            "tags": []
          },
          "execution_count": 80
        }
      ]
    },
    {
      "cell_type": "code",
      "metadata": {
        "colab": {
          "base_uri": "https://localhost:8080/",
          "height": 17
        },
        "id": "8S1z3ShU6R7P",
        "outputId": "553a604b-d3c5-460b-ff33-42e15d615a1f"
      },
      "source": [
        "final_df.to_excel(\"data/reddit_posts_df_2.xlsx\",index=False) #save the dataset"
      ],
      "execution_count": null,
      "outputs": [
        {
          "output_type": "display_data",
          "data": {
            "text/html": [
              "<style> pre { white-space: pre-wrap;} </style>"
            ],
            "text/plain": [
              "<IPython.core.display.HTML object>"
            ]
          },
          "metadata": {
            "tags": []
          }
        },
        {
          "output_type": "display_data",
          "data": {
            "text/html": [
              "<style> pre { white-space: pre-wrap;} </style>"
            ],
            "text/plain": [
              "<IPython.core.display.HTML object>"
            ]
          },
          "metadata": {
            "tags": []
          }
        },
        {
          "output_type": "display_data",
          "data": {
            "text/html": [
              "<style> pre { white-space: pre-wrap;} </style>"
            ],
            "text/plain": [
              "<IPython.core.display.HTML object>"
            ]
          },
          "metadata": {
            "tags": []
          }
        }
      ]
    }
  ]
}